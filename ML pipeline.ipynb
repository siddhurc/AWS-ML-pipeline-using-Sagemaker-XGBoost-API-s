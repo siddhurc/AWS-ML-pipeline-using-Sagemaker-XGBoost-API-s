{
 "cells": [
  {
   "cell_type": "markdown",
   "id": "aa15c323",
   "metadata": {},
   "source": [
    "## Siddhartha Choudhary\n",
    "## N01568083\n",
    "## ML pipeline"
   ]
  },
  {
   "cell_type": "code",
   "execution_count": 280,
   "id": "cb2449b5",
   "metadata": {},
   "outputs": [
    {
     "name": "stdout",
     "output_type": "stream",
     "text": [
      "Requirement already satisfied: sagemaker in /home/ec2-user/anaconda3/envs/python3/lib/python3.10/site-packages (2.197.0)\n",
      "Requirement already satisfied: botocore in /home/ec2-user/anaconda3/envs/python3/lib/python3.10/site-packages (1.31.80)\n",
      "Collecting botocore\n",
      "  Downloading botocore-1.32.6-py3-none-any.whl.metadata (6.1 kB)\n",
      "Requirement already satisfied: boto3 in /home/ec2-user/anaconda3/envs/python3/lib/python3.10/site-packages (1.28.80)\n",
      "Collecting boto3\n",
      "  Downloading boto3-1.29.6-py3-none-any.whl.metadata (6.7 kB)\n",
      "Requirement already satisfied: awscli in /home/ec2-user/anaconda3/envs/python3/lib/python3.10/site-packages (1.29.80)\n",
      "Collecting awscli\n",
      "  Downloading awscli-1.30.6-py3-none-any.whl.metadata (11 kB)\n",
      "Requirement already satisfied: attrs<24,>=23.1.0 in /home/ec2-user/anaconda3/envs/python3/lib/python3.10/site-packages (from sagemaker) (23.1.0)\n",
      "Requirement already satisfied: cloudpickle==2.2.1 in /home/ec2-user/anaconda3/envs/python3/lib/python3.10/site-packages (from sagemaker) (2.2.1)\n",
      "Requirement already satisfied: google-pasta in /home/ec2-user/anaconda3/envs/python3/lib/python3.10/site-packages (from sagemaker) (0.2.0)\n",
      "Requirement already satisfied: numpy<2.0,>=1.9.0 in /home/ec2-user/anaconda3/envs/python3/lib/python3.10/site-packages (from sagemaker) (1.22.4)\n",
      "Requirement already satisfied: protobuf<5.0,>=3.12 in /home/ec2-user/anaconda3/envs/python3/lib/python3.10/site-packages (from sagemaker) (4.25.0)\n",
      "Requirement already satisfied: smdebug-rulesconfig==1.0.1 in /home/ec2-user/anaconda3/envs/python3/lib/python3.10/site-packages (from sagemaker) (1.0.1)\n",
      "Requirement already satisfied: importlib-metadata<7.0,>=1.4.0 in /home/ec2-user/anaconda3/envs/python3/lib/python3.10/site-packages (from sagemaker) (6.8.0)\n",
      "Requirement already satisfied: packaging>=20.0 in /home/ec2-user/anaconda3/envs/python3/lib/python3.10/site-packages (from sagemaker) (21.3)\n",
      "Requirement already satisfied: pandas in /home/ec2-user/anaconda3/envs/python3/lib/python3.10/site-packages (from sagemaker) (2.1.1)\n",
      "Requirement already satisfied: pathos in /home/ec2-user/anaconda3/envs/python3/lib/python3.10/site-packages (from sagemaker) (0.3.1)\n",
      "Requirement already satisfied: schema in /home/ec2-user/anaconda3/envs/python3/lib/python3.10/site-packages (from sagemaker) (0.7.5)\n",
      "Requirement already satisfied: PyYAML~=6.0 in /home/ec2-user/anaconda3/envs/python3/lib/python3.10/site-packages (from sagemaker) (6.0.1)\n",
      "Requirement already satisfied: jsonschema in /home/ec2-user/anaconda3/envs/python3/lib/python3.10/site-packages (from sagemaker) (4.19.1)\n",
      "Requirement already satisfied: platformdirs in /home/ec2-user/anaconda3/envs/python3/lib/python3.10/site-packages (from sagemaker) (3.11.0)\n",
      "Requirement already satisfied: tblib==1.7.0 in /home/ec2-user/anaconda3/envs/python3/lib/python3.10/site-packages (from sagemaker) (1.7.0)\n",
      "Requirement already satisfied: jmespath<2.0.0,>=0.7.1 in /home/ec2-user/anaconda3/envs/python3/lib/python3.10/site-packages (from botocore) (1.0.1)\n",
      "Requirement already satisfied: python-dateutil<3.0.0,>=2.1 in /home/ec2-user/anaconda3/envs/python3/lib/python3.10/site-packages (from botocore) (2.8.2)\n",
      "Requirement already satisfied: urllib3<2.1,>=1.25.4 in /home/ec2-user/anaconda3/envs/python3/lib/python3.10/site-packages (from botocore) (1.26.18)\n",
      "Requirement already satisfied: s3transfer<0.8.0,>=0.7.0 in /home/ec2-user/anaconda3/envs/python3/lib/python3.10/site-packages (from boto3) (0.7.0)\n",
      "Requirement already satisfied: docutils<0.17,>=0.10 in /home/ec2-user/anaconda3/envs/python3/lib/python3.10/site-packages (from awscli) (0.16)\n",
      "Requirement already satisfied: colorama<0.4.5,>=0.2.5 in /home/ec2-user/anaconda3/envs/python3/lib/python3.10/site-packages (from awscli) (0.4.4)\n",
      "Requirement already satisfied: rsa<4.8,>=3.1.2 in /home/ec2-user/anaconda3/envs/python3/lib/python3.10/site-packages (from awscli) (4.7.2)\n",
      "Requirement already satisfied: zipp>=0.5 in /home/ec2-user/anaconda3/envs/python3/lib/python3.10/site-packages (from importlib-metadata<7.0,>=1.4.0->sagemaker) (3.17.0)\n",
      "Requirement already satisfied: pyparsing!=3.0.5,>=2.0.2 in /home/ec2-user/anaconda3/envs/python3/lib/python3.10/site-packages (from packaging>=20.0->sagemaker) (3.1.1)\n",
      "Requirement already satisfied: six>=1.5 in /home/ec2-user/anaconda3/envs/python3/lib/python3.10/site-packages (from python-dateutil<3.0.0,>=2.1->botocore) (1.16.0)\n",
      "Requirement already satisfied: pyasn1>=0.1.3 in /home/ec2-user/anaconda3/envs/python3/lib/python3.10/site-packages (from rsa<4.8,>=3.1.2->awscli) (0.5.0)\n",
      "Requirement already satisfied: jsonschema-specifications>=2023.03.6 in /home/ec2-user/anaconda3/envs/python3/lib/python3.10/site-packages (from jsonschema->sagemaker) (2023.7.1)\n",
      "Requirement already satisfied: referencing>=0.28.4 in /home/ec2-user/anaconda3/envs/python3/lib/python3.10/site-packages (from jsonschema->sagemaker) (0.30.2)\n",
      "Requirement already satisfied: rpds-py>=0.7.1 in /home/ec2-user/anaconda3/envs/python3/lib/python3.10/site-packages (from jsonschema->sagemaker) (0.10.6)\n",
      "Requirement already satisfied: pytz>=2020.1 in /home/ec2-user/anaconda3/envs/python3/lib/python3.10/site-packages (from pandas->sagemaker) (2023.3.post1)\n",
      "Requirement already satisfied: tzdata>=2022.1 in /home/ec2-user/anaconda3/envs/python3/lib/python3.10/site-packages (from pandas->sagemaker) (2023.3)\n",
      "Requirement already satisfied: ppft>=1.7.6.7 in /home/ec2-user/anaconda3/envs/python3/lib/python3.10/site-packages (from pathos->sagemaker) (1.7.6.7)\n",
      "Requirement already satisfied: dill>=0.3.7 in /home/ec2-user/anaconda3/envs/python3/lib/python3.10/site-packages (from pathos->sagemaker) (0.3.7)\n",
      "Requirement already satisfied: pox>=0.3.3 in /home/ec2-user/anaconda3/envs/python3/lib/python3.10/site-packages (from pathos->sagemaker) (0.3.3)\n",
      "Requirement already satisfied: multiprocess>=0.70.15 in /home/ec2-user/anaconda3/envs/python3/lib/python3.10/site-packages (from pathos->sagemaker) (0.70.15)\n",
      "Requirement already satisfied: contextlib2>=0.5.5 in /home/ec2-user/anaconda3/envs/python3/lib/python3.10/site-packages (from schema->sagemaker) (21.6.0)\n",
      "Downloading botocore-1.32.6-py3-none-any.whl (11.5 MB)\n",
      "\u001b[2K   \u001b[90m━━━━━━━━━━━━━━━━━━━━━━━━━━━━━━━━━━━━━━━━\u001b[0m \u001b[32m11.5/11.5 MB\u001b[0m \u001b[31m29.3 MB/s\u001b[0m eta \u001b[36m0:00:00\u001b[0m:00:01\u001b[0m:01\u001b[0m\n",
      "\u001b[?25hDownloading boto3-1.29.6-py3-none-any.whl (135 kB)\n",
      "\u001b[2K   \u001b[90m━━━━━━━━━━━━━━━━━━━━━━━━━━━━━━━━━━━━━━━━\u001b[0m \u001b[32m135.8/135.8 kB\u001b[0m \u001b[31m3.5 MB/s\u001b[0m eta \u001b[36m0:00:00\u001b[0m:00:01\u001b[0m\n",
      "\u001b[?25hDownloading awscli-1.30.6-py3-none-any.whl (4.3 MB)\n",
      "\u001b[2K   \u001b[90m━━━━━━━━━━━━━━━━━━━━━━━━━━━━━━━━━━━━━━━━\u001b[0m \u001b[32m4.3/4.3 MB\u001b[0m \u001b[31m26.4 MB/s\u001b[0m eta \u001b[36m0:00:00\u001b[0m:00:01\u001b[0m\n",
      "\u001b[?25hInstalling collected packages: botocore, boto3, awscli\n",
      "  Attempting uninstall: botocore\n",
      "    Found existing installation: botocore 1.31.80\n",
      "    Uninstalling botocore-1.31.80:\n",
      "      Successfully uninstalled botocore-1.31.80\n",
      "  Attempting uninstall: boto3\n",
      "    Found existing installation: boto3 1.28.80\n",
      "    Uninstalling boto3-1.28.80:\n",
      "      Successfully uninstalled boto3-1.28.80\n",
      "  Attempting uninstall: awscli\n",
      "    Found existing installation: awscli 1.29.80\n",
      "    Uninstalling awscli-1.29.80:\n",
      "      Successfully uninstalled awscli-1.29.80\n",
      "Successfully installed awscli-1.30.6 boto3-1.29.6 botocore-1.32.6\n"
     ]
    }
   ],
   "source": [
    "! pip install sagemaker botocore boto3 awscli --upgrade"
   ]
  },
  {
   "cell_type": "markdown",
   "id": "df990763",
   "metadata": {},
   "source": [
    "## Importing necessary libraries"
   ]
  },
  {
   "cell_type": "code",
   "execution_count": 32,
   "id": "79f2234e",
   "metadata": {},
   "outputs": [
    {
     "name": "stdout",
     "output_type": "stream",
     "text": [
      "us-east-1\n",
      "sagemaker.config INFO - Not applying SDK defaults from location: /etc/xdg/sagemaker/config.yaml\n",
      "sagemaker.config INFO - Not applying SDK defaults from location: /home/ec2-user/.config/sagemaker/config.yaml\n",
      "sagemaker.config INFO - Not applying SDK defaults from location: /etc/xdg/sagemaker/config.yaml\n",
      "sagemaker.config INFO - Not applying SDK defaults from location: /home/ec2-user/.config/sagemaker/config.yaml\n",
      "arn:aws:iam::457756105170:role/fast-ai-academic-60-Student-Azure\n"
     ]
    }
   ],
   "source": [
    "import boto3\n",
    "import sagemaker\n",
    "from sagemaker.estimator import Estimator\n",
    "import pandas as pd\n",
    "import numpy as np\n",
    "\n",
    "boto_session = boto3.session.Session()\n",
    "region = boto_session.region_name\n",
    "print(region)\n",
    "\n",
    "sagemaker_session = sagemaker.Session()\n",
    "client = boto3.client(service_name=\"sagemaker\")\n",
    "runtime = boto3.client(service_name=\"sagemaker-runtime\")\n",
    "role = sagemaker.get_execution_role()\n",
    "print(role)\n",
    "\n",
    "default_bucket = 'mlpipeline-sid1'\n",
    "s3_prefix = 'mlpipeline-sid'\n",
    "\n",
    "training_instance_type = \"ml.m4.xlarge\""
   ]
  },
  {
   "cell_type": "markdown",
   "id": "5e71ba78",
   "metadata": {},
   "source": [
    "# Data Preprocessing\n",
    "## Reading data from the csv"
   ]
  },
  {
   "cell_type": "code",
   "execution_count": 50,
   "id": "ad0cd948",
   "metadata": {},
   "outputs": [],
   "source": [
    "df = pd.read_csv('complete_dataset.csv')"
   ]
  },
  {
   "cell_type": "code",
   "execution_count": 51,
   "id": "426e71e9",
   "metadata": {},
   "outputs": [
    {
     "data": {
      "text/html": [
       "<div>\n",
       "<style scoped>\n",
       "    .dataframe tbody tr th:only-of-type {\n",
       "        vertical-align: middle;\n",
       "    }\n",
       "\n",
       "    .dataframe tbody tr th {\n",
       "        vertical-align: top;\n",
       "    }\n",
       "\n",
       "    .dataframe thead th {\n",
       "        text-align: right;\n",
       "    }\n",
       "</style>\n",
       "<table border=\"1\" class=\"dataframe\">\n",
       "  <thead>\n",
       "    <tr style=\"text-align: right;\">\n",
       "      <th></th>\n",
       "      <th>date</th>\n",
       "      <th>demand</th>\n",
       "      <th>RRP</th>\n",
       "      <th>demand_pos_RRP</th>\n",
       "      <th>RRP_positive</th>\n",
       "      <th>demand_neg_RRP</th>\n",
       "      <th>RRP_negative</th>\n",
       "      <th>frac_at_neg_RRP</th>\n",
       "      <th>min_temperature</th>\n",
       "      <th>max_temperature</th>\n",
       "      <th>solar_exposure</th>\n",
       "      <th>rainfall</th>\n",
       "      <th>school_day</th>\n",
       "      <th>holiday</th>\n",
       "    </tr>\n",
       "  </thead>\n",
       "  <tbody>\n",
       "    <tr>\n",
       "      <th>0</th>\n",
       "      <td>2015-01-01</td>\n",
       "      <td>99635.030</td>\n",
       "      <td>25.633696</td>\n",
       "      <td>97319.240</td>\n",
       "      <td>26.415953</td>\n",
       "      <td>2315.790</td>\n",
       "      <td>-7.240000</td>\n",
       "      <td>0.020833</td>\n",
       "      <td>13.3</td>\n",
       "      <td>26.9</td>\n",
       "      <td>23.6</td>\n",
       "      <td>0.0</td>\n",
       "      <td>N</td>\n",
       "      <td>Y</td>\n",
       "    </tr>\n",
       "    <tr>\n",
       "      <th>1</th>\n",
       "      <td>2015-01-02</td>\n",
       "      <td>129606.010</td>\n",
       "      <td>33.138988</td>\n",
       "      <td>121082.015</td>\n",
       "      <td>38.837661</td>\n",
       "      <td>8523.995</td>\n",
       "      <td>-47.809777</td>\n",
       "      <td>0.062500</td>\n",
       "      <td>15.4</td>\n",
       "      <td>38.8</td>\n",
       "      <td>26.8</td>\n",
       "      <td>0.0</td>\n",
       "      <td>N</td>\n",
       "      <td>N</td>\n",
       "    </tr>\n",
       "    <tr>\n",
       "      <th>2</th>\n",
       "      <td>2015-01-03</td>\n",
       "      <td>142300.540</td>\n",
       "      <td>34.564855</td>\n",
       "      <td>142300.540</td>\n",
       "      <td>34.564855</td>\n",
       "      <td>0.000</td>\n",
       "      <td>0.000000</td>\n",
       "      <td>0.000000</td>\n",
       "      <td>20.0</td>\n",
       "      <td>38.2</td>\n",
       "      <td>26.5</td>\n",
       "      <td>0.0</td>\n",
       "      <td>N</td>\n",
       "      <td>N</td>\n",
       "    </tr>\n",
       "    <tr>\n",
       "      <th>3</th>\n",
       "      <td>2015-01-04</td>\n",
       "      <td>104330.715</td>\n",
       "      <td>25.005560</td>\n",
       "      <td>104330.715</td>\n",
       "      <td>25.005560</td>\n",
       "      <td>0.000</td>\n",
       "      <td>0.000000</td>\n",
       "      <td>0.000000</td>\n",
       "      <td>16.3</td>\n",
       "      <td>21.4</td>\n",
       "      <td>25.2</td>\n",
       "      <td>4.2</td>\n",
       "      <td>N</td>\n",
       "      <td>N</td>\n",
       "    </tr>\n",
       "    <tr>\n",
       "      <th>4</th>\n",
       "      <td>2015-01-05</td>\n",
       "      <td>118132.200</td>\n",
       "      <td>26.724176</td>\n",
       "      <td>118132.200</td>\n",
       "      <td>26.724176</td>\n",
       "      <td>0.000</td>\n",
       "      <td>0.000000</td>\n",
       "      <td>0.000000</td>\n",
       "      <td>15.0</td>\n",
       "      <td>22.0</td>\n",
       "      <td>30.7</td>\n",
       "      <td>0.0</td>\n",
       "      <td>N</td>\n",
       "      <td>N</td>\n",
       "    </tr>\n",
       "  </tbody>\n",
       "</table>\n",
       "</div>"
      ],
      "text/plain": [
       "         date      demand        RRP  demand_pos_RRP  RRP_positive  \\\n",
       "0  2015-01-01   99635.030  25.633696       97319.240     26.415953   \n",
       "1  2015-01-02  129606.010  33.138988      121082.015     38.837661   \n",
       "2  2015-01-03  142300.540  34.564855      142300.540     34.564855   \n",
       "3  2015-01-04  104330.715  25.005560      104330.715     25.005560   \n",
       "4  2015-01-05  118132.200  26.724176      118132.200     26.724176   \n",
       "\n",
       "   demand_neg_RRP  RRP_negative  frac_at_neg_RRP  min_temperature  \\\n",
       "0        2315.790     -7.240000         0.020833             13.3   \n",
       "1        8523.995    -47.809777         0.062500             15.4   \n",
       "2           0.000      0.000000         0.000000             20.0   \n",
       "3           0.000      0.000000         0.000000             16.3   \n",
       "4           0.000      0.000000         0.000000             15.0   \n",
       "\n",
       "   max_temperature  solar_exposure  rainfall school_day holiday  \n",
       "0             26.9            23.6       0.0          N       Y  \n",
       "1             38.8            26.8       0.0          N       N  \n",
       "2             38.2            26.5       0.0          N       N  \n",
       "3             21.4            25.2       4.2          N       N  \n",
       "4             22.0            30.7       0.0          N       N  "
      ]
     },
     "execution_count": 51,
     "metadata": {},
     "output_type": "execute_result"
    }
   ],
   "source": [
    "df.head()"
   ]
  },
  {
   "cell_type": "code",
   "execution_count": 52,
   "id": "a1d5eac8",
   "metadata": {},
   "outputs": [
    {
     "data": {
      "text/plain": [
       "date               2106\n",
       "demand             2106\n",
       "RRP                2106\n",
       "demand_pos_RRP     2106\n",
       "RRP_positive       2106\n",
       "demand_neg_RRP     2106\n",
       "RRP_negative       2106\n",
       "frac_at_neg_RRP    2106\n",
       "min_temperature    2106\n",
       "max_temperature    2106\n",
       "solar_exposure     2105\n",
       "rainfall           2103\n",
       "school_day         2106\n",
       "holiday            2106\n",
       "dtype: int64"
      ]
     },
     "execution_count": 52,
     "metadata": {},
     "output_type": "execute_result"
    }
   ],
   "source": [
    "df.count()"
   ]
  },
  {
   "cell_type": "markdown",
   "id": "f413a302",
   "metadata": {},
   "source": [
    "## Listing the null values for each column"
   ]
  },
  {
   "cell_type": "code",
   "execution_count": 53,
   "id": "944f38bb",
   "metadata": {},
   "outputs": [
    {
     "data": {
      "text/plain": [
       "date               0\n",
       "demand             0\n",
       "RRP                0\n",
       "demand_pos_RRP     0\n",
       "RRP_positive       0\n",
       "demand_neg_RRP     0\n",
       "RRP_negative       0\n",
       "frac_at_neg_RRP    0\n",
       "min_temperature    0\n",
       "max_temperature    0\n",
       "solar_exposure     1\n",
       "rainfall           3\n",
       "school_day         0\n",
       "holiday            0\n",
       "dtype: int64"
      ]
     },
     "execution_count": 53,
     "metadata": {},
     "output_type": "execute_result"
    }
   ],
   "source": [
    "df.isnull().sum()"
   ]
  },
  {
   "cell_type": "markdown",
   "id": "d3307af6",
   "metadata": {},
   "source": [
    "## Dropping null values for rainfall attribute"
   ]
  },
  {
   "cell_type": "code",
   "execution_count": 54,
   "id": "9c07512e",
   "metadata": {},
   "outputs": [],
   "source": [
    "df = df.dropna(subset=['rainfall'])"
   ]
  },
  {
   "cell_type": "markdown",
   "id": "a58ab899",
   "metadata": {},
   "source": [
    "## Replacing null values for column solar_exposure with that of the mean value of the column"
   ]
  },
  {
   "cell_type": "code",
   "execution_count": 55,
   "id": "a60d22dd",
   "metadata": {},
   "outputs": [],
   "source": [
    "mean_solar_exposure = df['solar_exposure'].mean()\n",
    "df['solar_exposure'].fillna(mean_solar_exposure, inplace=True)"
   ]
  },
  {
   "cell_type": "code",
   "execution_count": 56,
   "id": "ab1a59f0",
   "metadata": {},
   "outputs": [
    {
     "data": {
      "text/plain": [
       "date               0\n",
       "demand             0\n",
       "RRP                0\n",
       "demand_pos_RRP     0\n",
       "RRP_positive       0\n",
       "demand_neg_RRP     0\n",
       "RRP_negative       0\n",
       "frac_at_neg_RRP    0\n",
       "min_temperature    0\n",
       "max_temperature    0\n",
       "solar_exposure     0\n",
       "rainfall           0\n",
       "school_day         0\n",
       "holiday            0\n",
       "dtype: int64"
      ]
     },
     "execution_count": 56,
     "metadata": {},
     "output_type": "execute_result"
    }
   ],
   "source": [
    "df.isnull().sum()"
   ]
  },
  {
   "cell_type": "code",
   "execution_count": 57,
   "id": "f956439c",
   "metadata": {},
   "outputs": [],
   "source": [
    "df_temp = df"
   ]
  },
  {
   "cell_type": "markdown",
   "id": "042fed22",
   "metadata": {},
   "source": [
    "## Visualizing dataset"
   ]
  },
  {
   "cell_type": "code",
   "execution_count": 59,
   "id": "5f49c36a",
   "metadata": {},
   "outputs": [],
   "source": [
    "df['date'] = pd.to_datetime(df['date'])\n",
    "\n",
    "df['Year'] = df['date'].dt.year \n",
    "df['Month'] = df['date'].dt.month \n",
    "df['Day'] = df['date'].dt.day"
   ]
  },
  {
   "cell_type": "code",
   "execution_count": 61,
   "id": "71b52a35",
   "metadata": {},
   "outputs": [
    {
     "data": {
      "image/png": "[encoded data removed]",
      "text/plain": [
       "<Figure size 1000x500 with 1 Axes>"
      ]
     },
     "metadata": {},
     "output_type": "display_data"
    }
   ],
   "source": [
    "plt.figure(figsize=(10, 5))\n",
    "g=sns.lineplot(data=df, x='Year', y='RRP')\n",
    "g.set_ylabel('Australian Price in (AUD/MWh)', fontsize=15)\n",
    "g.set_title('Price AUD/MWh vs Year', fontsize=15)\n",
    "g.set_xlabel('Year', fontsize=15)\n",
    "plt.show()"
   ]
  },
  {
   "cell_type": "code",
   "execution_count": 65,
   "id": "3a6dd118",
   "metadata": {},
   "outputs": [],
   "source": [
    "df = df_temp"
   ]
  },
  {
   "cell_type": "markdown",
   "id": "edd4b2f9",
   "metadata": {},
   "source": [
    "## Detecting outliers and removing rows with z score value more than 5 and plotting before and after removing outliers"
   ]
  },
  {
   "cell_type": "code",
   "execution_count": 40,
   "id": "4b5655bf",
   "metadata": {},
   "outputs": [
    {
     "data": {
      "image/png": "[encoded data removed]",
      "text/plain": [
       "<Figure size 1500x600 with 2 Axes>"
      ]
     },
     "metadata": {},
     "output_type": "display_data"
    }
   ],
   "source": [
    "import matplotlib.pyplot as plt\n",
    "import seaborn as sns\n",
    "from scipy import stats\n",
    "\n",
    "numerical_cols = df.select_dtypes(include=[np.number]).columns.tolist()\n",
    "\n",
    "fig, axes = plt.subplots(nrows=1, ncols=2, figsize=(15, 6))\n",
    "\n",
    "sns.boxplot(data=df[numerical_cols], ax=axes[0])\n",
    "axes[0].set_title('Box Plot Before Removing Outliers')\n",
    "\n",
    "z_scores = np.abs(stats.zscore(df[numerical_cols]))\n",
    "\n",
    "threshold = 5\n",
    "\n",
    "outliers = np.where(z_scores > threshold)\n",
    "\n",
    "df_no_outliers = df[(z_scores <= threshold).all(axis=1)]\n",
    "\n",
    "sns.boxplot(data=df_no_outliers[numerical_cols], ax=axes[1])\n",
    "axes[1].set_title('Box Plot After Removing Outliers')\n",
    "plt.tight_layout()\n",
    "plt.show()\n"
   ]
  },
  {
   "cell_type": "markdown",
   "id": "99569b9c",
   "metadata": {},
   "source": [
    "## Label encoding school_day and holiday "
   ]
  },
  {
   "cell_type": "code",
   "execution_count": 41,
   "id": "9412303a",
   "metadata": {},
   "outputs": [],
   "source": [
    "from sklearn.preprocessing import LabelEncoder\n",
    "\n",
    "label_encoder = LabelEncoder()\n",
    "\n",
    "df['school_day'] = label_encoder.fit_transform(df['school_day'])\n",
    "\n",
    "df['holiday'] = label_encoder.fit_transform(df['holiday'])"
   ]
  },
  {
   "cell_type": "code",
   "execution_count": 42,
   "id": "e5ce10b0",
   "metadata": {},
   "outputs": [
    {
     "data": {
      "text/html": [
       "<div>\n",
       "<style scoped>\n",
       "    .dataframe tbody tr th:only-of-type {\n",
       "        vertical-align: middle;\n",
       "    }\n",
       "\n",
       "    .dataframe tbody tr th {\n",
       "        vertical-align: top;\n",
       "    }\n",
       "\n",
       "    .dataframe thead th {\n",
       "        text-align: right;\n",
       "    }\n",
       "</style>\n",
       "<table border=\"1\" class=\"dataframe\">\n",
       "  <thead>\n",
       "    <tr style=\"text-align: right;\">\n",
       "      <th></th>\n",
       "      <th>date</th>\n",
       "      <th>demand</th>\n",
       "      <th>RRP</th>\n",
       "      <th>demand_pos_RRP</th>\n",
       "      <th>RRP_positive</th>\n",
       "      <th>demand_neg_RRP</th>\n",
       "      <th>RRP_negative</th>\n",
       "      <th>frac_at_neg_RRP</th>\n",
       "      <th>min_temperature</th>\n",
       "      <th>max_temperature</th>\n",
       "      <th>solar_exposure</th>\n",
       "      <th>rainfall</th>\n",
       "      <th>school_day</th>\n",
       "      <th>holiday</th>\n",
       "    </tr>\n",
       "  </thead>\n",
       "  <tbody>\n",
       "    <tr>\n",
       "      <th>2101</th>\n",
       "      <td>2020-10-02</td>\n",
       "      <td>99585.835</td>\n",
       "      <td>-6.076028</td>\n",
       "      <td>41988.240</td>\n",
       "      <td>26.980251</td>\n",
       "      <td>57597.595</td>\n",
       "      <td>-30.173823</td>\n",
       "      <td>0.625000</td>\n",
       "      <td>12.8</td>\n",
       "      <td>26.0</td>\n",
       "      <td>22.0</td>\n",
       "      <td>0.0</td>\n",
       "      <td>0</td>\n",
       "      <td>0</td>\n",
       "    </tr>\n",
       "    <tr>\n",
       "      <th>2102</th>\n",
       "      <td>2020-10-03</td>\n",
       "      <td>92277.025</td>\n",
       "      <td>-1.983471</td>\n",
       "      <td>44133.510</td>\n",
       "      <td>32.438156</td>\n",
       "      <td>48143.515</td>\n",
       "      <td>-33.538025</td>\n",
       "      <td>0.583333</td>\n",
       "      <td>17.4</td>\n",
       "      <td>29.4</td>\n",
       "      <td>19.8</td>\n",
       "      <td>0.0</td>\n",
       "      <td>0</td>\n",
       "      <td>0</td>\n",
       "    </tr>\n",
       "    <tr>\n",
       "      <th>2103</th>\n",
       "      <td>2020-10-04</td>\n",
       "      <td>94081.565</td>\n",
       "      <td>25.008614</td>\n",
       "      <td>88580.995</td>\n",
       "      <td>26.571687</td>\n",
       "      <td>5500.570</td>\n",
       "      <td>-0.163066</td>\n",
       "      <td>0.062500</td>\n",
       "      <td>13.5</td>\n",
       "      <td>29.5</td>\n",
       "      <td>8.4</td>\n",
       "      <td>0.0</td>\n",
       "      <td>0</td>\n",
       "      <td>0</td>\n",
       "    </tr>\n",
       "    <tr>\n",
       "      <th>2104</th>\n",
       "      <td>2020-10-05</td>\n",
       "      <td>113610.030</td>\n",
       "      <td>36.764701</td>\n",
       "      <td>106587.375</td>\n",
       "      <td>39.616015</td>\n",
       "      <td>7022.655</td>\n",
       "      <td>-6.511550</td>\n",
       "      <td>0.083333</td>\n",
       "      <td>9.1</td>\n",
       "      <td>12.7</td>\n",
       "      <td>7.3</td>\n",
       "      <td>12.8</td>\n",
       "      <td>0</td>\n",
       "      <td>0</td>\n",
       "    </tr>\n",
       "    <tr>\n",
       "      <th>2105</th>\n",
       "      <td>2020-10-06</td>\n",
       "      <td>122607.560</td>\n",
       "      <td>75.771059</td>\n",
       "      <td>122607.560</td>\n",
       "      <td>75.771059</td>\n",
       "      <td>0.000</td>\n",
       "      <td>0.000000</td>\n",
       "      <td>0.000000</td>\n",
       "      <td>8.9</td>\n",
       "      <td>12.6</td>\n",
       "      <td>5.8</td>\n",
       "      <td>1.0</td>\n",
       "      <td>0</td>\n",
       "      <td>0</td>\n",
       "    </tr>\n",
       "  </tbody>\n",
       "</table>\n",
       "</div>"
      ],
      "text/plain": [
       "            date      demand        RRP  demand_pos_RRP  RRP_positive  \\\n",
       "2101  2020-10-02   99585.835  -6.076028       41988.240     26.980251   \n",
       "2102  2020-10-03   92277.025  -1.983471       44133.510     32.438156   \n",
       "2103  2020-10-04   94081.565  25.008614       88580.995     26.571687   \n",
       "2104  2020-10-05  113610.030  36.764701      106587.375     39.616015   \n",
       "2105  2020-10-06  122607.560  75.771059      122607.560     75.771059   \n",
       "\n",
       "      demand_neg_RRP  RRP_negative  frac_at_neg_RRP  min_temperature  \\\n",
       "2101       57597.595    -30.173823         0.625000             12.8   \n",
       "2102       48143.515    -33.538025         0.583333             17.4   \n",
       "2103        5500.570     -0.163066         0.062500             13.5   \n",
       "2104        7022.655     -6.511550         0.083333              9.1   \n",
       "2105           0.000      0.000000         0.000000              8.9   \n",
       "\n",
       "      max_temperature  solar_exposure  rainfall  school_day  holiday  \n",
       "2101             26.0            22.0       0.0           0        0  \n",
       "2102             29.4            19.8       0.0           0        0  \n",
       "2103             29.5             8.4       0.0           0        0  \n",
       "2104             12.7             7.3      12.8           0        0  \n",
       "2105             12.6             5.8       1.0           0        0  "
      ]
     },
     "execution_count": 42,
     "metadata": {},
     "output_type": "execute_result"
    }
   ],
   "source": [
    "df.tail()"
   ]
  },
  {
   "cell_type": "markdown",
   "id": "2b75babe",
   "metadata": {},
   "source": [
    "## Scaling the data using min max scalar"
   ]
  },
  {
   "cell_type": "code",
   "execution_count": 43,
   "id": "947be1bc",
   "metadata": {},
   "outputs": [],
   "source": [
    "from sklearn.preprocessing import MinMaxScaler\n",
    "\n",
    "scaler = MinMaxScaler(feature_range=(0, 5))\n",
    "\n",
    "columns_to_scale = df.columns.difference(['date'])\n",
    "\n",
    "df[columns_to_scale] = scaler.fit_transform(df[columns_to_scale])"
   ]
  },
  {
   "cell_type": "markdown",
   "id": "3bd65eb8",
   "metadata": {},
   "source": [
    "## Converting date column to year, month and day attributes and dropping date column\n"
   ]
  },
  {
   "cell_type": "code",
   "execution_count": 44,
   "id": "ba265886",
   "metadata": {},
   "outputs": [],
   "source": [
    "df['date'] = pd.to_datetime(df['date'])\n",
    "\n",
    "# Extracting year month and day from the date column\n",
    "df['year'] = df['date'].dt.year\n",
    "df['month'] = df['date'].dt.month\n",
    "df['day'] = df['date'].dt.day\n",
    "\n",
    "df = df.drop('date', axis=1)\n"
   ]
  },
  {
   "cell_type": "code",
   "execution_count": 45,
   "id": "42bd6fbb",
   "metadata": {},
   "outputs": [],
   "source": [
    "## Rearranging dataframe columns for RRP to be the first column\n",
    "\n",
    "df = df[['RRP', 'demand', 'demand_pos_RRP', 'RRP_positive', 'demand_neg_RRP', 'RRP_negative',\n",
    "         'frac_at_neg_RRP', 'min_temperature', 'max_temperature', 'solar_exposure',\n",
    "         'rainfall', 'school_day', 'holiday', 'year', 'month', 'day']]"
   ]
  },
  {
   "cell_type": "code",
   "execution_count": 46,
   "id": "fdc5bc68",
   "metadata": {},
   "outputs": [
    {
     "data": {
      "text/html": [
       "<div>\n",
       "<style scoped>\n",
       "    .dataframe tbody tr th:only-of-type {\n",
       "        vertical-align: middle;\n",
       "    }\n",
       "\n",
       "    .dataframe tbody tr th {\n",
       "        vertical-align: top;\n",
       "    }\n",
       "\n",
       "    .dataframe thead th {\n",
       "        text-align: right;\n",
       "    }\n",
       "</style>\n",
       "<table border=\"1\" class=\"dataframe\">\n",
       "  <thead>\n",
       "    <tr style=\"text-align: right;\">\n",
       "      <th></th>\n",
       "      <th>RRP</th>\n",
       "      <th>demand</th>\n",
       "      <th>demand_pos_RRP</th>\n",
       "      <th>RRP_positive</th>\n",
       "      <th>demand_neg_RRP</th>\n",
       "      <th>RRP_negative</th>\n",
       "      <th>frac_at_neg_RRP</th>\n",
       "      <th>min_temperature</th>\n",
       "      <th>max_temperature</th>\n",
       "      <th>solar_exposure</th>\n",
       "      <th>rainfall</th>\n",
       "      <th>school_day</th>\n",
       "      <th>holiday</th>\n",
       "      <th>year</th>\n",
       "      <th>month</th>\n",
       "      <th>day</th>\n",
       "    </tr>\n",
       "  </thead>\n",
       "  <tbody>\n",
       "    <tr>\n",
       "      <th>0</th>\n",
       "      <td>0.034802</td>\n",
       "      <td>0.849740</td>\n",
       "      <td>2.150186</td>\n",
       "      <td>0.014161</td>\n",
       "      <td>0.201032</td>\n",
       "      <td>4.894220</td>\n",
       "      <td>0.166667</td>\n",
       "      <td>2.317518</td>\n",
       "      <td>2.594203</td>\n",
       "      <td>3.512270</td>\n",
       "      <td>0.000000</td>\n",
       "      <td>0.0</td>\n",
       "      <td>5.0</td>\n",
       "      <td>2015</td>\n",
       "      <td>1</td>\n",
       "      <td>1</td>\n",
       "    </tr>\n",
       "    <tr>\n",
       "      <th>1</th>\n",
       "      <td>0.043039</td>\n",
       "      <td>2.601210</td>\n",
       "      <td>3.073618</td>\n",
       "      <td>0.027853</td>\n",
       "      <td>0.739961</td>\n",
       "      <td>4.301476</td>\n",
       "      <td>0.500000</td>\n",
       "      <td>2.700730</td>\n",
       "      <td>4.318841</td>\n",
       "      <td>4.003067</td>\n",
       "      <td>0.000000</td>\n",
       "      <td>0.0</td>\n",
       "      <td>0.0</td>\n",
       "      <td>2015</td>\n",
       "      <td>1</td>\n",
       "      <td>2</td>\n",
       "    </tr>\n",
       "    <tr>\n",
       "      <th>2</th>\n",
       "      <td>0.044604</td>\n",
       "      <td>3.343065</td>\n",
       "      <td>3.898179</td>\n",
       "      <td>0.023143</td>\n",
       "      <td>0.000000</td>\n",
       "      <td>5.000000</td>\n",
       "      <td>0.000000</td>\n",
       "      <td>3.540146</td>\n",
       "      <td>4.231884</td>\n",
       "      <td>3.957055</td>\n",
       "      <td>0.000000</td>\n",
       "      <td>0.0</td>\n",
       "      <td>0.0</td>\n",
       "      <td>2015</td>\n",
       "      <td>1</td>\n",
       "      <td>3</td>\n",
       "    </tr>\n",
       "    <tr>\n",
       "      <th>3</th>\n",
       "      <td>0.034113</td>\n",
       "      <td>1.124150</td>\n",
       "      <td>2.422655</td>\n",
       "      <td>0.012606</td>\n",
       "      <td>0.000000</td>\n",
       "      <td>5.000000</td>\n",
       "      <td>0.000000</td>\n",
       "      <td>2.864964</td>\n",
       "      <td>1.797101</td>\n",
       "      <td>3.757669</td>\n",
       "      <td>0.384615</td>\n",
       "      <td>0.0</td>\n",
       "      <td>0.0</td>\n",
       "      <td>2015</td>\n",
       "      <td>1</td>\n",
       "      <td>4</td>\n",
       "    </tr>\n",
       "    <tr>\n",
       "      <th>4</th>\n",
       "      <td>0.035999</td>\n",
       "      <td>1.930694</td>\n",
       "      <td>2.958987</td>\n",
       "      <td>0.014501</td>\n",
       "      <td>0.000000</td>\n",
       "      <td>5.000000</td>\n",
       "      <td>0.000000</td>\n",
       "      <td>2.627737</td>\n",
       "      <td>1.884058</td>\n",
       "      <td>4.601227</td>\n",
       "      <td>0.000000</td>\n",
       "      <td>0.0</td>\n",
       "      <td>0.0</td>\n",
       "      <td>2015</td>\n",
       "      <td>1</td>\n",
       "      <td>5</td>\n",
       "    </tr>\n",
       "  </tbody>\n",
       "</table>\n",
       "</div>"
      ],
      "text/plain": [
       "        RRP    demand  demand_pos_RRP  RRP_positive  demand_neg_RRP  \\\n",
       "0  0.034802  0.849740        2.150186      0.014161        0.201032   \n",
       "1  0.043039  2.601210        3.073618      0.027853        0.739961   \n",
       "2  0.044604  3.343065        3.898179      0.023143        0.000000   \n",
       "3  0.034113  1.124150        2.422655      0.012606        0.000000   \n",
       "4  0.035999  1.930694        2.958987      0.014501        0.000000   \n",
       "\n",
       "   RRP_negative  frac_at_neg_RRP  min_temperature  max_temperature  \\\n",
       "0      4.894220         0.166667         2.317518         2.594203   \n",
       "1      4.301476         0.500000         2.700730         4.318841   \n",
       "2      5.000000         0.000000         3.540146         4.231884   \n",
       "3      5.000000         0.000000         2.864964         1.797101   \n",
       "4      5.000000         0.000000         2.627737         1.884058   \n",
       "\n",
       "   solar_exposure  rainfall  school_day  holiday  year  month  day  \n",
       "0        3.512270  0.000000         0.0      5.0  2015      1    1  \n",
       "1        4.003067  0.000000         0.0      0.0  2015      1    2  \n",
       "2        3.957055  0.000000         0.0      0.0  2015      1    3  \n",
       "3        3.757669  0.384615         0.0      0.0  2015      1    4  \n",
       "4        4.601227  0.000000         0.0      0.0  2015      1    5  "
      ]
     },
     "execution_count": 46,
     "metadata": {},
     "output_type": "execute_result"
    }
   ],
   "source": [
    "df.head()"
   ]
  },
  {
   "cell_type": "markdown",
   "id": "7fe56cce",
   "metadata": {},
   "source": [
    "# Data organizing in S3 buckets\n",
    "## Splitting train and test split with 80% train data, 10% as test and 10% as validationn and saving them to S3 buckets"
   ]
  },
  {
   "cell_type": "code",
   "execution_count": 117,
   "id": "46a28f6c",
   "metadata": {},
   "outputs": [
    {
     "data": {
      "text/plain": [
       "{'ResponseMetadata': {'RequestId': 'G8CYF6ABM9SA7YJ0',\n",
       "  'HostId': 'Ej8DZtEOLYdXuNuL8VLgVq/cOjGxYIHr/co9iMy6BL8Qjdj9bl5El6BLeCf2mRbYuNL2kIAm+bU=',\n",
       "  'HTTPStatusCode': 200,\n",
       "  'HTTPHeaders': {'x-amz-id-2': 'Ej8DZtEOLYdXuNuL8VLgVq/cOjGxYIHr/co9iMy6BL8Qjdj9bl5El6BLeCf2mRbYuNL2kIAm+bU=',\n",
       "   'x-amz-request-id': 'G8CYF6ABM9SA7YJ0',\n",
       "   'date': 'Thu, 23 Nov 2023 06:36:24 GMT',\n",
       "   'x-amz-server-side-encryption': 'AES256',\n",
       "   'etag': '\"2c5b2b3087eb3d2da8ed1b259a8fd185\"',\n",
       "   'server': 'AmazonS3',\n",
       "   'content-length': '0'},\n",
       "  'RetryAttempts': 0},\n",
       " 'ETag': '\"2c5b2b3087eb3d2da8ed1b259a8fd185\"',\n",
       " 'ServerSideEncryption': 'AES256'}"
      ]
     },
     "execution_count": 117,
     "metadata": {},
     "output_type": "execute_result"
    }
   ],
   "source": [
    "import numpy as np\n",
    "rand_split = np.random.rand(len(df)) \n",
    "train_list = rand_split < 0.8\n",
    "val_list = (rand_split >= 0.8) & (rand_split < 0.9)\n",
    "test_list = rand_split >= 0.9\n",
    "\n",
    "s3 = boto3.resource('s3')\n",
    "data_train = df[train_list]\n",
    "data_train_csv = data_train.to_csv(index=False)\n",
    "s3.Object(default_bucket, \"train/train.csv\").put(Body=data_train_csv)\n",
    "\n",
    "\n",
    "data_val = df[val_list]\n",
    "data_valid_csv = data_val.to_csv(index=False)\n",
    "s3.Object(default_bucket, \"validation/validation.csv\").put(Body=data_valid_csv)\n",
    "\n",
    "\n",
    "data_test = df[test_list]\n",
    "data_test_csv = data_test.to_csv(index=False)\n",
    "s3.Object(default_bucket, \"test/test.csv\").put(Body=data_test_csv)\n"
   ]
  },
  {
   "cell_type": "markdown",
   "id": "77ebcaf4",
   "metadata": {},
   "source": [
    "# Training\n",
    "## defining xgboost container"
   ]
  },
  {
   "cell_type": "code",
   "execution_count": 294,
   "id": "1f40cf11",
   "metadata": {},
   "outputs": [],
   "source": [
    "from sagemaker import image_uris, model_uris, script_uris\n",
    "\n",
    "container = \"683313688378.dkr.ecr.us-east-1.amazonaws.com/sagemaker-xgboost:1.7-1\"\n",
    "\n"
   ]
  },
  {
   "cell_type": "code",
   "execution_count": 119,
   "id": "57db11d3",
   "metadata": {},
   "outputs": [
    {
     "name": "stdout",
     "output_type": "stream",
     "text": [
      "Job name is: xgboost-2023-11-23-06-38-49\n"
     ]
    }
   ],
   "source": [
    "import time\n",
    "xgboost_job = \"xgboost-\" + time.strftime(\"%Y-%m-%d-%H-%M-%S\", time.gmtime())\n",
    "\n",
    "print(\"Job name is:\", xgboost_job)\n",
    "\n"
   ]
  },
  {
   "cell_type": "code",
   "execution_count": 120,
   "id": "ddb6cd5f",
   "metadata": {},
   "outputs": [],
   "source": [
    "train_data = \"s3://mlpipeline-sid1/train/train.csv\"\n",
    "validation_data = \"s3://mlpipeline-sid1/validation/validation.csv\""
   ]
  },
  {
   "cell_type": "markdown",
   "id": "137e28df",
   "metadata": {},
   "source": [
    "## Defining training params with train and validation data"
   ]
  },
  {
   "cell_type": "code",
   "execution_count": 121,
   "id": "3d4bd492",
   "metadata": {},
   "outputs": [],
   "source": [
    "xgboost_training_params = {\n",
    "    \"TrainingJobName\": xgboost_job,\n",
    "    \"AlgorithmSpecification\": {\n",
    "        \"TrainingImage\": container,\n",
    "        \"TrainingInputMode\": \"File\",\n",
    "    },\n",
    "    \"RoleArn\": role,\n",
    "    \"OutputDataConfig\": {\n",
    "        \"S3OutputPath\": \"s3://week7-output/output/\",\n",
    "    },\n",
    "    \"ResourceConfig\": {\n",
    "        \"InstanceType\": \"ml.m4.xlarge\",\n",
    "        \"InstanceCount\": 1,\n",
    "        \"VolumeSizeInGB\": 30,\n",
    "    },\n",
    "    \"StoppingCondition\": {\n",
    "        \"MaxRuntimeInSeconds\": 86400,\n",
    "    },\n",
    "    \"InputDataConfig\": [\n",
    "        {\n",
    "            \"ChannelName\": \"train\",\n",
    "            \"DataSource\": {\n",
    "                \"S3DataSource\": {\n",
    "                    \"S3DataType\": \"S3Prefix\",\n",
    "                    \"S3Uri\": train_data,\n",
    "                    \"S3DataDistributionType\": \"FullyReplicated\",\n",
    "                }\n",
    "            },\n",
    "            \"ContentType\": \"csv\",\n",
    "        },\n",
    "        {\n",
    "            \"ChannelName\": \"validation\",\n",
    "            \"DataSource\": {\n",
    "                \"S3DataSource\": {\n",
    "                    \"S3DataType\": \"S3Prefix\",\n",
    "                    \"S3Uri\": validation_data,\n",
    "                    \"S3DataDistributionType\": \"FullyReplicated\",\n",
    "                }\n",
    "            },\n",
    "            \"ContentType\": \"csv\",\n",
    "        },\n",
    "    ],\n",
    "    \"HyperParameters\": {\n",
    "        \"objective\": \"reg:squarederror\",\n",
    "        \"num_round\": \"100\",\n",
    "        \"max_depth\": \"5\"\n",
    "    },\n",
    "}\n"
   ]
  },
  {
   "cell_type": "markdown",
   "id": "0b30daa1",
   "metadata": {},
   "source": [
    "## Creating a training job for the xgboost model with the train data."
   ]
  },
  {
   "cell_type": "code",
   "execution_count": 122,
   "id": "842fa7cb",
   "metadata": {},
   "outputs": [
    {
     "name": "stdout",
     "output_type": "stream",
     "text": [
      "InProgress\n",
      "CPU times: user 138 ms, sys: 14.3 ms, total: 152 ms\n",
      "Wall time: 4min\n"
     ]
    }
   ],
   "source": [
    "%%time\n",
    "\n",
    "region = boto3.Session().region_name\n",
    "sm = boto3.client(\"sagemaker\")\n",
    "\n",
    "sm.create_training_job(**xgboost_training_params)\n",
    "\n",
    "status = sm.describe_training_job(TrainingJobName=xgboost_job)[\"TrainingJobStatus\"]\n",
    "print(status)\n",
    "sm.get_waiter(\"training_job_completed_or_stopped\").wait(TrainingJobName=xgboost_job)\n",
    "if status == \"Failed\":\n",
    "    message = sm.describe_training_job(TrainingJobName=xgboost_job)[\"FailureReason\"]\n",
    "    print(\"Training failed with the following error: {}\".format(message))\n",
    "    raise Exception(\"Training job failed\")"
   ]
  },
  {
   "cell_type": "markdown",
   "id": "e793d1e2",
   "metadata": {},
   "source": [
    "# Hosting\n",
    "## Creating model for the above trained xgboost algorithm"
   ]
  },
  {
   "cell_type": "code",
   "execution_count": 123,
   "id": "8cf1d53a",
   "metadata": {},
   "outputs": [
    {
     "name": "stdout",
     "output_type": "stream",
     "text": [
      "arn:aws:sagemaker:us-east-1:457756105170:model/xgboost-2023-11-23-06-38-49\n"
     ]
    }
   ],
   "source": [
    "xgboost_hosting_container = {\n",
    "    \"Image\": container,\n",
    "    \"ModelDataUrl\": sm.describe_training_job(TrainingJobName=xgboost_job)[\"ModelArtifacts\"][\n",
    "        \"S3ModelArtifacts\"\n",
    "    ],\n",
    "}\n",
    "\n",
    "create_model_response = sm.create_model(\n",
    "    ModelName=xgboost_job, ExecutionRoleArn=role, PrimaryContainer=xgboost_hosting_container\n",
    ")\n",
    "\n",
    "print(create_model_response[\"ModelArn\"])"
   ]
  },
  {
   "cell_type": "markdown",
   "id": "4c4c6a13",
   "metadata": {},
   "source": [
    "## Defining endpoint configurations for the model to be deployed along with instance type "
   ]
  },
  {
   "cell_type": "code",
   "execution_count": 124,
   "id": "05c6988f",
   "metadata": {},
   "outputs": [
    {
     "name": "stdout",
     "output_type": "stream",
     "text": [
      "DEMO-xgboost-endpoint-config-2023-11-23-06-44-58\n",
      "Endpoint Config Arn: arn:aws:sagemaker:us-east-1:457756105170:endpoint-config/demo-xgboost-endpoint-config-2023-11-23-06-44-58\n"
     ]
    }
   ],
   "source": [
    "xgboost_endpoint_config = \"DEMO-xgboost-endpoint-config-\" + time.strftime(\n",
    "    \"%Y-%m-%d-%H-%M-%S\", time.gmtime()\n",
    ")\n",
    "print(xgboost_endpoint_config)\n",
    "create_endpoint_config_response = sm.create_endpoint_config(\n",
    "    EndpointConfigName=xgboost_endpoint_config,\n",
    "    ProductionVariants=[\n",
    "        {\n",
    "            \"InstanceType\": \"ml.m4.xlarge\",\n",
    "            \"InitialInstanceCount\": 1,\n",
    "            \"ModelName\": xgboost_job,\n",
    "            \"VariantName\": \"AllTraffic\",\n",
    "        }\n",
    "    ],\n",
    ")\n",
    "\n",
    "print(\"Endpoint Config Arn: \" + create_endpoint_config_response[\"EndpointConfigArn\"])"
   ]
  },
  {
   "cell_type": "markdown",
   "id": "a548d538",
   "metadata": {},
   "source": [
    "## Deploying the endopoint for the trained xgboost model"
   ]
  },
  {
   "cell_type": "code",
   "execution_count": 125,
   "id": "b350e05f",
   "metadata": {},
   "outputs": [
    {
     "name": "stdout",
     "output_type": "stream",
     "text": [
      "DEMO-xgboost-endpoint-202311230645\n",
      "arn:aws:sagemaker:us-east-1:457756105170:endpoint/demo-xgboost-endpoint-202311230645\n",
      "Status: Creating\n",
      "Arn: arn:aws:sagemaker:us-east-1:457756105170:endpoint/demo-xgboost-endpoint-202311230645\n",
      "Status: InService\n"
     ]
    }
   ],
   "source": [
    "xgboost_endpoint = \"xgboost-endpoint-\" + time.strftime(\"%Y%m%d%H%M\", time.gmtime())\n",
    "print(xgboost_endpoint)\n",
    "create_endpoint_response = sm.create_endpoint(\n",
    "    EndpointName=xgboost_endpoint, EndpointConfigName=xgboost_endpoint_config\n",
    ")\n",
    "print(create_endpoint_response[\"EndpointArn\"])\n",
    "\n",
    "resp = sm.describe_endpoint(EndpointName=xgboost_endpoint)\n",
    "status = resp[\"EndpointStatus\"]\n",
    "print(\"Status: \" + status)\n",
    "\n",
    "sm.get_waiter(\"endpoint_in_service\").wait(EndpointName=xgboost_endpoint)\n",
    "\n",
    "resp = sm.describe_endpoint(EndpointName=xgboost_endpoint)\n",
    "status = resp[\"EndpointStatus\"]\n",
    "print(\"Arn: \" + resp[\"EndpointArn\"])\n",
    "print(\"Status: \" + status)\n",
    "\n",
    "if status != \"InService\":\n",
    "    raise Exception(\"Endpoint creation did not succeed\")"
   ]
  },
  {
   "cell_type": "markdown",
   "id": "86638269",
   "metadata": {},
   "source": [
    "# Predicting\n"
   ]
  },
  {
   "cell_type": "code",
   "execution_count": 153,
   "id": "bf845a0d",
   "metadata": {},
   "outputs": [],
   "source": [
    "test_X = data_test.iloc[:,1:].to_csv(index=False, header=False)\n",
    "test_y = data_test.iloc[:,0].to_csv(index=False, header=False)"
   ]
  },
  {
   "cell_type": "markdown",
   "id": "414b9b3b",
   "metadata": {},
   "source": [
    "## Invoking the created point to make predictions on the test dataset"
   ]
  },
  {
   "cell_type": "code",
   "execution_count": 154,
   "id": "409b2433",
   "metadata": {},
   "outputs": [
    {
     "name": "stdout",
     "output_type": "stream",
     "text": [
      "CPU times: user 33.8 ms, sys: 0 ns, total: 33.8 ms\n",
      "Wall time: 107 ms\n"
     ]
    }
   ],
   "source": [
    "%%time\n",
    "\n",
    "runtime = boto3.client(\"sagemaker-runtime\")\n",
    "\n",
    "response = runtime.invoke_endpoint(\n",
    "    EndpointName=xgboost_endpoint,\n",
    "    ContentType=\"text/csv\",\n",
    "    Body=test_X.encode('utf-8')\n",
    ")\n",
    "\n",
    "response_body = response[\"Body\"].read()"
   ]
  },
  {
   "cell_type": "markdown",
   "id": "b507782d",
   "metadata": {},
   "source": [
    "## Calculating accuracy metrics using the test set"
   ]
  },
  {
   "cell_type": "code",
   "execution_count": 159,
   "id": "6d89c572",
   "metadata": {},
   "outputs": [
    {
     "name": "stdout",
     "output_type": "stream",
     "text": [
      "MAE: 0.001970258560460822\n",
      "MSE: 0.00037584436325163945\n",
      "RMSE: 0.01938670583806438\n"
     ]
    }
   ],
   "source": [
    "import numpy as np\n",
    "from sklearn.metrics import mean_absolute_error, mean_squared_error\n",
    "\n",
    "# Actual data\n",
    "actual_data = data_test.iloc[:, 0].values  \n",
    "\n",
    "# Predicted data from the response\n",
    "predicted_data_str = response_body.decode('utf-8')\n",
    "predicted_data = np.array([float(val) for val in predicted_data_str.split('\\n') if val])\n",
    "\n",
    "# Calculate Mean Absolute Error (MAE)\n",
    "mae = mean_absolute_error(actual_data, predicted_data)\n",
    "\n",
    "# Calculate Mean Squared Error (MSE)\n",
    "mse = mean_squared_error(actual_data, predicted_data)\n",
    "\n",
    "# Calculate Root Mean Squared Error (RMSE)\n",
    "rmse = np.sqrt(mse)\n",
    "\n",
    "print(f'MAE: {mae}')\n",
    "print(f'MSE: {mse}')\n",
    "print(f'RMSE: {rmse}')\n"
   ]
  },
  {
   "cell_type": "markdown",
   "id": "9011a4d5",
   "metadata": {},
   "source": [
    "## Plotting MAE, MSE and RMSE"
   ]
  },
  {
   "cell_type": "code",
   "execution_count": 161,
   "id": "5a7b08c7",
   "metadata": {},
   "outputs": [
    {
     "data": {
      "image/png": "[encoded data removed]",
      "text/plain": [
       "<Figure size 640x480 with 1 Axes>"
      ]
     },
     "metadata": {},
     "output_type": "display_data"
    }
   ],
   "source": [
    "import matplotlib.pyplot as plt\n",
    "\n",
    "# Plotting\n",
    "metrics_names = ['MAE', 'MSE', 'RMSE']\n",
    "metrics_values = [mae, mse, rmse]\n",
    "\n",
    "plt.bar(metrics_names, metrics_values, color=['blue', 'green', 'orange'])\n",
    "plt.ylabel('Metric Value')\n",
    "plt.title('XGBoost model Performance Metrics')\n",
    "plt.show()\n"
   ]
  },
  {
   "cell_type": "markdown",
   "id": "0a4d287c",
   "metadata": {},
   "source": [
    "# Optimization\n",
    "## Hyperparameter Optimization"
   ]
  },
  {
   "cell_type": "code",
   "execution_count": 318,
   "id": "126aed88",
   "metadata": {},
   "outputs": [
    {
     "name": "stdout",
     "output_type": "stream",
     "text": [
      "xgb-tun2023-11-23-09-10-07\n"
     ]
    }
   ],
   "source": [
    "from time import gmtime, strftime, sleep\n",
    "\n",
    "tun_job_name = \"xgb-tun\" + time.strftime(\"%Y-%m-%d-%H-%M-%S\", time.gmtime())\n",
    "print(tun_job_name)"
   ]
  },
  {
   "cell_type": "markdown",
   "id": "3e3052f2",
   "metadata": {},
   "source": [
    "## Defining tuning job parameters and hyperparameters to be considered"
   ]
  },
  {
   "cell_type": "code",
   "execution_count": 319,
   "id": "674f385b",
   "metadata": {},
   "outputs": [],
   "source": [
    "tuning_job_config = {\n",
    "    \"ParameterRanges\": {\n",
    "        \"CategoricalParameterRanges\": [\n",
    "        ],\n",
    "        \"ContinuousParameterRanges\": [\n",
    "            {\n",
    "                \"MaxValue\": \"1\",\n",
    "                \"MinValue\": \"0\",\n",
    "                \"Name\": \"eta\",\n",
    "            },\n",
    "            {\n",
    "                \"MaxValue\": \"53\",\n",
    "                \"MinValue\": \"1\",\n",
    "                \"Name\": \"min_child_weight\",\n",
    "            },\n",
    "            {\n",
    "                \"MaxValue\": \"250\",\n",
    "                \"MinValue\": \"0\",\n",
    "                \"Name\": \"alpha\",\n",
    "            },\n",
    "            {\n",
    "                \"MaxValue\": \"1\",\n",
    "                \"MinValue\": \"0.6\",\n",
    "                \"Name\": \"subsample\",\n",
    "            },\n",
    "        ],\n",
    "        \"IntegerParameterRanges\": [\n",
    "            {\n",
    "                \"MaxValue\": \"10\",\n",
    "                \"MinValue\": \"2\",\n",
    "                \"Name\": \"max_depth\",\n",
    "            },\n",
    "            {\n",
    "                \"MaxValue\": \"1000\",\n",
    "                \"MinValue\": \"25\",\n",
    "                \"Name\": \"num_round\",\n",
    "            }\n",
    "        ],\n",
    "    },\n",
    "    \"ResourceLimits\": {\"MaxNumberOfTrainingJobs\": 10, \"MaxParallelTrainingJobs\": 3},\n",
    "    \"Strategy\": \"Bayesian\",\n",
    "    \"HyperParameterTuningJobObjective\": {\"MetricName\": \"validation:mse\", \"Type\": \"Minimize\"},\n",
    "}"
   ]
  },
  {
   "cell_type": "markdown",
   "id": "38edf70c",
   "metadata": {},
   "source": [
    "## Defining training job for the tuning job with eval metric as auc"
   ]
  },
  {
   "cell_type": "code",
   "execution_count": 320,
   "id": "f38c856d",
   "metadata": {},
   "outputs": [],
   "source": [
    "from sagemaker.image_uris import retrieve\n",
    "\n",
    "training_image = retrieve(framework=\"xgboost\", region=region, version=\"1.7-1\")\n",
    "\n",
    "s3_input_train = \"s3://{}/train/train.csv\".format(default_bucket)\n",
    "s3_input_validation = \"s3://{}/validation/validation.csv\".format(default_bucket)\n",
    "\n",
    "training_job_definition = {\n",
    "    \"AlgorithmSpecification\": {\"TrainingImage\": training_image, \"TrainingInputMode\": \"File\"},\n",
    "    \"InputDataConfig\": [\n",
    "        {\n",
    "            \"ChannelName\": \"train\",\n",
    "            \"CompressionType\": \"None\",\n",
    "            \"ContentType\": \"csv\",\n",
    "            \"DataSource\": {\n",
    "                \"S3DataSource\": {\n",
    "                    \"S3DataDistributionType\": \"FullyReplicated\",\n",
    "                    \"S3DataType\": \"S3Prefix\",\n",
    "                    \"S3Uri\": s3_input_train,\n",
    "                }\n",
    "            },\n",
    "        },\n",
    "        {\n",
    "            \"ChannelName\": \"validation\",\n",
    "            \"CompressionType\": \"None\",\n",
    "            \"ContentType\": \"csv\",\n",
    "            \"DataSource\": {\n",
    "                \"S3DataSource\": {\n",
    "                    \"S3DataDistributionType\": \"FullyReplicated\",\n",
    "                    \"S3DataType\": \"S3Prefix\",\n",
    "                    \"S3Uri\": s3_input_validation,\n",
    "                }\n",
    "            },\n",
    "        },\n",
    "    ],\n",
    "    \"OutputDataConfig\": {\"S3OutputPath\": \"s3://{}/output\".format(default_bucket)},\n",
    "    \"ResourceConfig\": {\"InstanceCount\": 1, \"InstanceType\": \"ml.m4.xlarge\", \"VolumeSizeInGB\": 10},\n",
    "    \"RoleArn\": role,\n",
    "    \"StaticHyperParameters\": {\n",
    "        \"objective\": \"reg:squarederror\",\n",
    "    },\n",
    "    \"StoppingCondition\": {\"MaxRuntimeInSeconds\": 43200},\n",
    "}"
   ]
  },
  {
   "cell_type": "markdown",
   "id": "5683fa33",
   "metadata": {},
   "source": [
    "## Starting the HPO job"
   ]
  },
  {
   "cell_type": "code",
   "execution_count": 321,
   "id": "b2916e25",
   "metadata": {
    "scrolled": true
   },
   "outputs": [
    {
     "data": {
      "text/plain": [
       "{'HyperParameterTuningJobArn': 'arn:aws:sagemaker:us-east-1:457756105170:hyper-parameter-tuning-job/xgb-tun2023-11-23-09-10-07',\n",
       " 'ResponseMetadata': {'RequestId': 'c5f66756-ebfa-49cd-9aa2-9a96ef5a2442',\n",
       "  'HTTPStatusCode': 200,\n",
       "  'HTTPHeaders': {'x-amzn-requestid': 'c5f66756-ebfa-49cd-9aa2-9a96ef5a2442',\n",
       "   'content-type': 'application/x-amz-json-1.1',\n",
       "   'content-length': '127',\n",
       "   'date': 'Thu, 23 Nov 2023 09:10:40 GMT'},\n",
       "  'RetryAttempts': 0}}"
      ]
     },
     "execution_count": 321,
     "metadata": {},
     "output_type": "execute_result"
    }
   ],
   "source": [
    "client.create_hyper_parameter_tuning_job(\n",
    "    HyperParameterTuningJobName=tun_job_name,\n",
    "    HyperParameterTuningJobConfig=tuning_job_config,\n",
    "    TrainingJobDefinition=training_job_definition,\n",
    ")"
   ]
  },
  {
   "cell_type": "markdown",
   "id": "0dd723c5",
   "metadata": {},
   "source": [
    "## Checking the status of HPO job"
   ]
  },
  {
   "cell_type": "code",
   "execution_count": 323,
   "id": "a9e4e0d6",
   "metadata": {},
   "outputs": [
    {
     "data": {
      "text/plain": [
       "'Completed'"
      ]
     },
     "execution_count": 323,
     "metadata": {},
     "output_type": "execute_result"
    }
   ],
   "source": [
    "client.describe_hyper_parameter_tuning_job(HyperParameterTuningJobName=tun_job_name)[\n",
    "    \"HyperParameterTuningJobStatus\"\n",
    "]"
   ]
  },
  {
   "cell_type": "markdown",
   "id": "8d7848c6",
   "metadata": {},
   "source": [
    "## Printing the list of all models with their parmeters "
   ]
  },
  {
   "cell_type": "code",
   "execution_count": 324,
   "id": "01676e29",
   "metadata": {},
   "outputs": [],
   "source": [
    "from sagemaker.analytics import HyperparameterTuningJobAnalytics"
   ]
  },
  {
   "cell_type": "code",
   "execution_count": 325,
   "id": "ced26b75",
   "metadata": {},
   "outputs": [
    {
     "name": "stdout",
     "output_type": "stream",
     "text": [
      "sagemaker.config INFO - Not applying SDK defaults from location: /etc/xdg/sagemaker/config.yaml\n",
      "sagemaker.config INFO - Not applying SDK defaults from location: /home/ec2-user/.config/sagemaker/config.yaml\n",
      "Number of training jobs with valid objective: 10\n",
      "{'lowest': 0.00215000007301569, 'highest': 0.034699998795986176}\n"
     ]
    },
    {
     "data": {
      "text/html": [
       "<div>\n",
       "<style scoped>\n",
       "    .dataframe tbody tr th:only-of-type {\n",
       "        vertical-align: middle;\n",
       "    }\n",
       "\n",
       "    .dataframe tbody tr th {\n",
       "        vertical-align: top;\n",
       "    }\n",
       "\n",
       "    .dataframe thead th {\n",
       "        text-align: right;\n",
       "    }\n",
       "</style>\n",
       "<table border=\"1\" class=\"dataframe\">\n",
       "  <thead>\n",
       "    <tr style=\"text-align: right;\">\n",
       "      <th></th>\n",
       "      <th>alpha</th>\n",
       "      <th>eta</th>\n",
       "      <th>max_depth</th>\n",
       "      <th>min_child_weight</th>\n",
       "      <th>num_round</th>\n",
       "      <th>subsample</th>\n",
       "      <th>TrainingJobName</th>\n",
       "      <th>TrainingJobStatus</th>\n",
       "      <th>FinalObjectiveValue</th>\n",
       "      <th>TrainingStartTime</th>\n",
       "      <th>TrainingEndTime</th>\n",
       "      <th>TrainingElapsedTimeSeconds</th>\n",
       "    </tr>\n",
       "  </thead>\n",
       "  <tbody>\n",
       "    <tr>\n",
       "      <th>0</th>\n",
       "      <td>19.279175</td>\n",
       "      <td>0.113070</td>\n",
       "      <td>6.0</td>\n",
       "      <td>22.789492</td>\n",
       "      <td>613.0</td>\n",
       "      <td>0.773005</td>\n",
       "      <td>xgb-tun2023-11-23-09-10-07-010-73b6b1d6</td>\n",
       "      <td>Completed</td>\n",
       "      <td>0.00215</td>\n",
       "      <td>2023-11-23 09:16:31+00:00</td>\n",
       "      <td>2023-11-23 09:17:08+00:00</td>\n",
       "      <td>37.0</td>\n",
       "    </tr>\n",
       "    <tr>\n",
       "      <th>1</th>\n",
       "      <td>0.000000</td>\n",
       "      <td>0.605104</td>\n",
       "      <td>5.0</td>\n",
       "      <td>53.000000</td>\n",
       "      <td>194.0</td>\n",
       "      <td>1.000000</td>\n",
       "      <td>xgb-tun2023-11-23-09-10-07-009-909d19eb</td>\n",
       "      <td>Completed</td>\n",
       "      <td>0.00437</td>\n",
       "      <td>2023-11-23 09:16:29+00:00</td>\n",
       "      <td>2023-11-23 09:17:01+00:00</td>\n",
       "      <td>32.0</td>\n",
       "    </tr>\n",
       "    <tr>\n",
       "      <th>2</th>\n",
       "      <td>82.044614</td>\n",
       "      <td>0.990737</td>\n",
       "      <td>3.0</td>\n",
       "      <td>21.653845</td>\n",
       "      <td>311.0</td>\n",
       "      <td>0.765038</td>\n",
       "      <td>xgb-tun2023-11-23-09-10-07-008-56c7a30d</td>\n",
       "      <td>Completed</td>\n",
       "      <td>0.00683</td>\n",
       "      <td>2023-11-23 09:15:45+00:00</td>\n",
       "      <td>2023-11-23 09:16:27+00:00</td>\n",
       "      <td>42.0</td>\n",
       "    </tr>\n",
       "    <tr>\n",
       "      <th>3</th>\n",
       "      <td>26.177276</td>\n",
       "      <td>0.524912</td>\n",
       "      <td>7.0</td>\n",
       "      <td>22.346308</td>\n",
       "      <td>564.0</td>\n",
       "      <td>0.744045</td>\n",
       "      <td>xgb-tun2023-11-23-09-10-07-007-89f5b867</td>\n",
       "      <td>Completed</td>\n",
       "      <td>0.00260</td>\n",
       "      <td>2023-11-23 09:15:34+00:00</td>\n",
       "      <td>2023-11-23 09:16:11+00:00</td>\n",
       "      <td>37.0</td>\n",
       "    </tr>\n",
       "    <tr>\n",
       "      <th>4</th>\n",
       "      <td>174.356153</td>\n",
       "      <td>0.376643</td>\n",
       "      <td>5.0</td>\n",
       "      <td>22.811113</td>\n",
       "      <td>477.0</td>\n",
       "      <td>0.704446</td>\n",
       "      <td>xgb-tun2023-11-23-09-10-07-006-e473f1d2</td>\n",
       "      <td>Completed</td>\n",
       "      <td>0.02451</td>\n",
       "      <td>2023-11-23 09:15:33+00:00</td>\n",
       "      <td>2023-11-23 09:16:10+00:00</td>\n",
       "      <td>37.0</td>\n",
       "    </tr>\n",
       "    <tr>\n",
       "      <th>5</th>\n",
       "      <td>128.748294</td>\n",
       "      <td>0.627166</td>\n",
       "      <td>9.0</td>\n",
       "      <td>29.895597</td>\n",
       "      <td>65.0</td>\n",
       "      <td>0.605507</td>\n",
       "      <td>xgb-tun2023-11-23-09-10-07-005-adce4436</td>\n",
       "      <td>Completed</td>\n",
       "      <td>0.01898</td>\n",
       "      <td>2023-11-23 09:14:48+00:00</td>\n",
       "      <td>2023-11-23 09:15:25+00:00</td>\n",
       "      <td>37.0</td>\n",
       "    </tr>\n",
       "    <tr>\n",
       "      <th>6</th>\n",
       "      <td>89.071695</td>\n",
       "      <td>0.083588</td>\n",
       "      <td>8.0</td>\n",
       "      <td>22.215055</td>\n",
       "      <td>423.0</td>\n",
       "      <td>0.714692</td>\n",
       "      <td>xgb-tun2023-11-23-09-10-07-004-826ff805</td>\n",
       "      <td>Completed</td>\n",
       "      <td>0.00856</td>\n",
       "      <td>2023-11-23 09:14:41+00:00</td>\n",
       "      <td>2023-11-23 09:15:18+00:00</td>\n",
       "      <td>37.0</td>\n",
       "    </tr>\n",
       "    <tr>\n",
       "      <th>7</th>\n",
       "      <td>188.442196</td>\n",
       "      <td>0.302182</td>\n",
       "      <td>8.0</td>\n",
       "      <td>43.681616</td>\n",
       "      <td>531.0</td>\n",
       "      <td>0.630335</td>\n",
       "      <td>xgb-tun2023-11-23-09-10-07-003-d145a9be</td>\n",
       "      <td>Completed</td>\n",
       "      <td>0.03470</td>\n",
       "      <td>2023-11-23 09:12:48+00:00</td>\n",
       "      <td>2023-11-23 09:14:40+00:00</td>\n",
       "      <td>112.0</td>\n",
       "    </tr>\n",
       "    <tr>\n",
       "      <th>8</th>\n",
       "      <td>140.316306</td>\n",
       "      <td>0.684837</td>\n",
       "      <td>7.0</td>\n",
       "      <td>26.185962</td>\n",
       "      <td>52.0</td>\n",
       "      <td>0.827705</td>\n",
       "      <td>xgb-tun2023-11-23-09-10-07-002-a943d28f</td>\n",
       "      <td>Completed</td>\n",
       "      <td>0.01283</td>\n",
       "      <td>2023-11-23 09:12:43+00:00</td>\n",
       "      <td>2023-11-23 09:14:25+00:00</td>\n",
       "      <td>102.0</td>\n",
       "    </tr>\n",
       "    <tr>\n",
       "      <th>9</th>\n",
       "      <td>139.801250</td>\n",
       "      <td>0.864528</td>\n",
       "      <td>9.0</td>\n",
       "      <td>12.687480</td>\n",
       "      <td>763.0</td>\n",
       "      <td>0.702473</td>\n",
       "      <td>xgb-tun2023-11-23-09-10-07-001-803ece45</td>\n",
       "      <td>Completed</td>\n",
       "      <td>0.01713</td>\n",
       "      <td>2023-11-23 09:13:26+00:00</td>\n",
       "      <td>2023-11-23 09:15:13+00:00</td>\n",
       "      <td>107.0</td>\n",
       "    </tr>\n",
       "  </tbody>\n",
       "</table>\n",
       "</div>"
      ],
      "text/plain": [
       "        alpha       eta  max_depth  min_child_weight  num_round  subsample  \\\n",
       "0   19.279175  0.113070        6.0         22.789492      613.0   0.773005   \n",
       "1    0.000000  0.605104        5.0         53.000000      194.0   1.000000   \n",
       "2   82.044614  0.990737        3.0         21.653845      311.0   0.765038   \n",
       "3   26.177276  0.524912        7.0         22.346308      564.0   0.744045   \n",
       "4  174.356153  0.376643        5.0         22.811113      477.0   0.704446   \n",
       "5  128.748294  0.627166        9.0         29.895597       65.0   0.605507   \n",
       "6   89.071695  0.083588        8.0         22.215055      423.0   0.714692   \n",
       "7  188.442196  0.302182        8.0         43.681616      531.0   0.630335   \n",
       "8  140.316306  0.684837        7.0         26.185962       52.0   0.827705   \n",
       "9  139.801250  0.864528        9.0         12.687480      763.0   0.702473   \n",
       "\n",
       "                           TrainingJobName TrainingJobStatus  \\\n",
       "0  xgb-tun2023-11-23-09-10-07-010-73b6b1d6         Completed   \n",
       "1  xgb-tun2023-11-23-09-10-07-009-909d19eb         Completed   \n",
       "2  xgb-tun2023-11-23-09-10-07-008-56c7a30d         Completed   \n",
       "3  xgb-tun2023-11-23-09-10-07-007-89f5b867         Completed   \n",
       "4  xgb-tun2023-11-23-09-10-07-006-e473f1d2         Completed   \n",
       "5  xgb-tun2023-11-23-09-10-07-005-adce4436         Completed   \n",
       "6  xgb-tun2023-11-23-09-10-07-004-826ff805         Completed   \n",
       "7  xgb-tun2023-11-23-09-10-07-003-d145a9be         Completed   \n",
       "8  xgb-tun2023-11-23-09-10-07-002-a943d28f         Completed   \n",
       "9  xgb-tun2023-11-23-09-10-07-001-803ece45         Completed   \n",
       "\n",
       "   FinalObjectiveValue         TrainingStartTime           TrainingEndTime  \\\n",
       "0              0.00215 2023-11-23 09:16:31+00:00 2023-11-23 09:17:08+00:00   \n",
       "1              0.00437 2023-11-23 09:16:29+00:00 2023-11-23 09:17:01+00:00   \n",
       "2              0.00683 2023-11-23 09:15:45+00:00 2023-11-23 09:16:27+00:00   \n",
       "3              0.00260 2023-11-23 09:15:34+00:00 2023-11-23 09:16:11+00:00   \n",
       "4              0.02451 2023-11-23 09:15:33+00:00 2023-11-23 09:16:10+00:00   \n",
       "5              0.01898 2023-11-23 09:14:48+00:00 2023-11-23 09:15:25+00:00   \n",
       "6              0.00856 2023-11-23 09:14:41+00:00 2023-11-23 09:15:18+00:00   \n",
       "7              0.03470 2023-11-23 09:12:48+00:00 2023-11-23 09:14:40+00:00   \n",
       "8              0.01283 2023-11-23 09:12:43+00:00 2023-11-23 09:14:25+00:00   \n",
       "9              0.01713 2023-11-23 09:13:26+00:00 2023-11-23 09:15:13+00:00   \n",
       "\n",
       "   TrainingElapsedTimeSeconds  \n",
       "0                        37.0  \n",
       "1                        32.0  \n",
       "2                        42.0  \n",
       "3                        37.0  \n",
       "4                        37.0  \n",
       "5                        37.0  \n",
       "6                        37.0  \n",
       "7                       112.0  \n",
       "8                       102.0  \n",
       "9                       107.0  "
      ]
     },
     "execution_count": 325,
     "metadata": {},
     "output_type": "execute_result"
    }
   ],
   "source": [
    "import pandas as pd\n",
    "\n",
    "tuner = HyperparameterTuningJobAnalytics(tun_job_name)\n",
    "\n",
    "full_df = tuner.dataframe()\n",
    "\n",
    "if len(full_df) > 0:\n",
    "    df = full_df[full_df[\"FinalObjectiveValue\"] > -float(\"inf\")]\n",
    "    if len(df) > 0:\n",
    "        df = df.sort_values(\"FinalObjectiveValue\", ascending=is_minimize)\n",
    "        print(\"Number of training jobs with valid objective: %d\" % len(df))\n",
    "        print({\"lowest\": min(df[\"FinalObjectiveValue\"]), \"highest\": max(df[\"FinalObjectiveValue\"])})\n",
    "        pd.set_option(\"display.max_colwidth\", None)  # Don't truncate TrainingJobName\n",
    "    else:\n",
    "        print(\"No training jobs have reported valid results yet.\")\n",
    "\n",
    "full_df"
   ]
  },
  {
   "cell_type": "markdown",
   "id": "dfec964d",
   "metadata": {},
   "source": [
    "## Selecting the best model from the HPO job and printing its details "
   ]
  },
  {
   "cell_type": "code",
   "execution_count": 326,
   "id": "d31a0184",
   "metadata": {},
   "outputs": [
    {
     "name": "stdout",
     "output_type": "stream",
     "text": [
      "Best model found so far:\n",
      "{'CreationTime': datetime.datetime(2023, 11, 23, 9, 16, 27, tzinfo=tzlocal()),\n",
      " 'FinalHyperParameterTuningJobObjectiveMetric': {'MetricName': 'validation:mse',\n",
      "                                                 'Value': 0.00215000007301569},\n",
      " 'ObjectiveStatus': 'Succeeded',\n",
      " 'TrainingEndTime': datetime.datetime(2023, 11, 23, 9, 17, 8, tzinfo=tzlocal()),\n",
      " 'TrainingJobArn': 'arn:aws:sagemaker:us-east-1:457756105170:training-job/xgb-tun2023-11-23-09-10-07-010-73b6b1d6',\n",
      " 'TrainingJobName': 'xgb-tun2023-11-23-09-10-07-010-73b6b1d6',\n",
      " 'TrainingJobStatus': 'Completed',\n",
      " 'TrainingStartTime': datetime.datetime(2023, 11, 23, 9, 16, 31, tzinfo=tzlocal()),\n",
      " 'TunedHyperParameters': {'alpha': '19.27917461236256',\n",
      "                          'eta': '0.11307039788259454',\n",
      "                          'max_depth': '6',\n",
      "                          'min_child_weight': '22.789492011548198',\n",
      "                          'num_round': '613',\n",
      "                          'subsample': '0.7730052668427267'}}\n"
     ]
    }
   ],
   "source": [
    "from pprint import pprint\n",
    "\n",
    "tuning_job_result = client.describe_hyper_parameter_tuning_job(\n",
    "    HyperParameterTuningJobName=tun_job_name\n",
    ")\n",
    "\n",
    "if tuning_job_result.get(\"BestTrainingJob\", None):\n",
    "    print(\"Best model found so far:\")\n",
    "    pprint(tuning_job_result[\"BestTrainingJob\"])\n",
    "else:\n",
    "    print(\"No training jobs have reported results yet.\")"
   ]
  },
  {
   "cell_type": "markdown",
   "id": "52a0805c",
   "metadata": {},
   "source": [
    "## Deploying the best model chosen from the HPO job"
   ]
  },
  {
   "cell_type": "code",
   "execution_count": 327,
   "id": "02a6bde7",
   "metadata": {},
   "outputs": [
    {
     "name": "stdout",
     "output_type": "stream",
     "text": [
      "arn:aws:sagemaker:us-east-1:457756105170:model/xgb-best-model1\n"
     ]
    }
   ],
   "source": [
    "xgb_best_model = tuning_job_result.get(\"BestTrainingJob\", None)\n",
    "model_name = 'xgb-best-model1'\n",
    "\n",
    "xgboost_hosting_container = {\n",
    "    \"Image\": container,\n",
    "    \"ModelDataUrl\": sm.describe_training_job(TrainingJobName=xgb_best_model['TrainingJobName'])[\"ModelArtifacts\"][\n",
    "        \"S3ModelArtifacts\"\n",
    "    ],\n",
    "}\n",
    "\n",
    "create_model_response = sm.create_model(\n",
    "    ModelName=model_name, ExecutionRoleArn=role, PrimaryContainer=xgboost_hosting_container\n",
    ")\n",
    "\n",
    "print(create_model_response[\"ModelArn\"])"
   ]
  },
  {
   "cell_type": "code",
   "execution_count": 328,
   "id": "f41fe24e",
   "metadata": {},
   "outputs": [
    {
     "name": "stdout",
     "output_type": "stream",
     "text": [
      "xgboost-best-endpoint-2023-11-23-09-18-37\n",
      "Endpoint Config Arn: arn:aws:sagemaker:us-east-1:457756105170:endpoint-config/xgboost-best-endpoint-2023-11-23-09-18-37\n"
     ]
    }
   ],
   "source": [
    "xgboost_endpoint_config = \"xgboost-best-endpoint-\" + time.strftime(\n",
    "    \"%Y-%m-%d-%H-%M-%S\", time.gmtime()\n",
    ")\n",
    "print(xgboost_endpoint_config)\n",
    "create_endpoint_config_response = sm.create_endpoint_config(\n",
    "    EndpointConfigName=xgboost_endpoint_config,\n",
    "    ProductionVariants=[\n",
    "        {\n",
    "            \"InstanceType\": \"ml.m4.xlarge\",\n",
    "            \"InitialInstanceCount\": 1,\n",
    "            \"ModelName\": model_name,\n",
    "            \"VariantName\": \"AllTraffic\",\n",
    "        }\n",
    "    ],\n",
    ")\n",
    "\n",
    "print(\"Endpoint Config Arn: \" + create_endpoint_config_response[\"EndpointConfigArn\"])"
   ]
  },
  {
   "cell_type": "code",
   "execution_count": 329,
   "id": "c0e5c009",
   "metadata": {},
   "outputs": [
    {
     "name": "stdout",
     "output_type": "stream",
     "text": [
      "xgboost-best-endpt-202311230918\n",
      "arn:aws:sagemaker:us-east-1:457756105170:endpoint/xgboost-best-endpt-202311230918\n",
      "Status: Creating\n",
      "Arn: arn:aws:sagemaker:us-east-1:457756105170:endpoint/xgboost-best-endpt-202311230918\n",
      "Status: InService\n"
     ]
    }
   ],
   "source": [
    "xgboost_endpoint = \"xgboost-best-endpt-\" + time.strftime(\"%Y%m%d%H%M\", time.gmtime())\n",
    "print(xgboost_endpoint)\n",
    "create_endpoint_response = sm.create_endpoint(\n",
    "    EndpointName=xgboost_endpoint, EndpointConfigName=xgboost_endpoint_config\n",
    ")\n",
    "print(create_endpoint_response[\"EndpointArn\"])\n",
    "\n",
    "resp = sm.describe_endpoint(EndpointName=xgboost_endpoint)\n",
    "status = resp[\"EndpointStatus\"]\n",
    "print(\"Status: \" + status)\n",
    "\n",
    "sm.get_waiter(\"endpoint_in_service\").wait(EndpointName=xgboost_endpoint)\n",
    "\n",
    "resp = sm.describe_endpoint(EndpointName=xgboost_endpoint)\n",
    "status = resp[\"EndpointStatus\"]\n",
    "print(\"Arn: \" + resp[\"EndpointArn\"])\n",
    "print(\"Status: \" + status)\n",
    "\n",
    "if status != \"InService\":\n",
    "    raise Exception(\"Endpoint creation did not succeed\")"
   ]
  },
  {
   "cell_type": "markdown",
   "id": "d6290af9",
   "metadata": {},
   "source": [
    "## Using the best deployed model to make prediction"
   ]
  },
  {
   "cell_type": "code",
   "execution_count": 330,
   "id": "6265aa9f",
   "metadata": {},
   "outputs": [],
   "source": [
    "test_X = data_test.iloc[:,1:].to_csv(index=False, header=False)\n",
    "test_y = data_test.iloc[:,0].to_csv(index=False, header=False)"
   ]
  },
  {
   "cell_type": "code",
   "execution_count": 331,
   "id": "60a0e5d7",
   "metadata": {},
   "outputs": [
    {
     "name": "stdout",
     "output_type": "stream",
     "text": [
      "CPU times: user 35.4 ms, sys: 101 µs, total: 35.5 ms\n",
      "Wall time: 155 ms\n"
     ]
    }
   ],
   "source": [
    "%%time\n",
    "\n",
    "runtime = boto3.client(\"sagemaker-runtime\")\n",
    "\n",
    "response = runtime.invoke_endpoint(\n",
    "    EndpointName=xgboost_endpoint,\n",
    "    ContentType=\"text/csv\",\n",
    "    Body=test_X.encode('utf-8')\n",
    ")\n",
    "\n",
    "response_body = response[\"Body\"].read()"
   ]
  },
  {
   "cell_type": "markdown",
   "id": "720fb160",
   "metadata": {},
   "source": [
    "## Measuring the performance metrics of the best deployed Xgboost model"
   ]
  },
  {
   "cell_type": "code",
   "execution_count": 332,
   "id": "6911f637",
   "metadata": {},
   "outputs": [
    {
     "name": "stdout",
     "output_type": "stream",
     "text": [
      "MAE: 0.02279733735755633\n",
      "MSE: 0.004205050165484049\n",
      "RMSE: 0.06484635815127977\n"
     ]
    }
   ],
   "source": [
    "import numpy as np\n",
    "from sklearn.metrics import mean_absolute_error, mean_squared_error\n",
    "\n",
    "# Actual data\n",
    "actual_data = data_test.iloc[:, 0].values  \n",
    "\n",
    "# Predicted data from the response\n",
    "predicted_data_str = response_body.decode('utf-8')\n",
    "predicted_data = np.array([float(val) for val in predicted_data_str.split('\\n') if val])\n",
    "\n",
    "# Calculate Mean Absolute Error (MAE)\n",
    "mae = mean_absolute_error(actual_data, predicted_data)\n",
    "\n",
    "# Calculate Mean Squared Error (MSE)\n",
    "mse = mean_squared_error(actual_data, predicted_data)\n",
    "\n",
    "# Calculate Root Mean Squared Error (RMSE)\n",
    "rmse = np.sqrt(mse)\n",
    "\n",
    "print(f'MAE: {mae}')\n",
    "print(f'MSE: {mse}')\n",
    "print(f'RMSE: {rmse}')\n"
   ]
  },
  {
   "cell_type": "markdown",
   "id": "a6600ef5",
   "metadata": {},
   "source": []
  }
 ],
 "metadata": {
  "kernelspec": {
   "display_name": "conda_python3",
   "language": "python",
   "name": "conda_python3"
  },
  "language_info": {
   "codemirror_mode": {
    "name": "ipython",
    "version": 3
   },
   "file_extension": ".py",
   "mimetype": "text/x-python",
   "name": "python",
   "nbconvert_exporter": "python",
   "pygments_lexer": "ipython3",
   "version": "3.10.13"
  }
 },
 "nbformat": 4,
 "nbformat_minor": 5
}
